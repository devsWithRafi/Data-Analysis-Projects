{
 "cells": [
  {
   "cell_type": "code",
   "execution_count": 1,
   "id": "16a9f3fd-514a-42d1-af89-379773d667ae",
   "metadata": {},
   "outputs": [],
   "source": [
    "import pandas as pd\n",
    "import numpy as np\n",
    "import matplotlib.pyplot as plt\n",
    "import seaborn as sns"
   ]
  },
  {
   "cell_type": "code",
   "execution_count": 2,
   "id": "b48eda59-03de-41e1-b0d7-d49198e5aa70",
   "metadata": {},
   "outputs": [],
   "source": [
    "df = pd.read_csv(\"NetflixData.csv\", engine='python', on_bad_lines='skip', encoding='latin1')"
   ]
  },
  {
   "cell_type": "markdown",
   "id": "5e45325c-9ad2-4317-9de3-88140ed06038",
   "metadata": {},
   "source": [
    "## **Questions:**\n",
    "\n",
    "1) What is the most frequent genre of movies released no Netflix?\n",
    "2) What genres has highest votes?\n",
    "3) What movie got the highest popularity? whats its genre?\n",
    "4) What movie got the lowest popularity? whats its genre?\n",
    "5) Which year has the most filmmed movies?"
   ]
  },
  {
   "cell_type": "code",
   "execution_count": 3,
   "id": "a7025eba-7094-4a27-9c98-8db28328d280",
   "metadata": {},
   "outputs": [
    {
     "data": {
      "text/html": [
       "<div>\n",
       "<style scoped>\n",
       "    .dataframe tbody tr th:only-of-type {\n",
       "        vertical-align: middle;\n",
       "    }\n",
       "\n",
       "    .dataframe tbody tr th {\n",
       "        vertical-align: top;\n",
       "    }\n",
       "\n",
       "    .dataframe thead th {\n",
       "        text-align: right;\n",
       "    }\n",
       "</style>\n",
       "<table border=\"1\" class=\"dataframe\">\n",
       "  <thead>\n",
       "    <tr style=\"text-align: right;\">\n",
       "      <th></th>\n",
       "      <th>Release_Date</th>\n",
       "      <th>Title</th>\n",
       "      <th>Overview</th>\n",
       "      <th>Popularity</th>\n",
       "      <th>Vote_Count</th>\n",
       "      <th>Vote_Average</th>\n",
       "      <th>Original_Language</th>\n",
       "      <th>Genre</th>\n",
       "      <th>Poster_Url</th>\n",
       "    </tr>\n",
       "  </thead>\n",
       "  <tbody>\n",
       "    <tr>\n",
       "      <th>0</th>\n",
       "      <td>2021-12-15</td>\n",
       "      <td>Spider-Man: No Way Home</td>\n",
       "      <td>Peter Parker is unmasked and no longer able to...</td>\n",
       "      <td>5083.954</td>\n",
       "      <td>8940</td>\n",
       "      <td>8.3</td>\n",
       "      <td>en</td>\n",
       "      <td>Action, Adventure, Science Fiction</td>\n",
       "      <td>https://image.tmdb.org/t/p/original/1g0dhYtq4i...</td>\n",
       "    </tr>\n",
       "    <tr>\n",
       "      <th>1</th>\n",
       "      <td>2022-03-01</td>\n",
       "      <td>The Batman</td>\n",
       "      <td>In his second year of fighting crime, Batman u...</td>\n",
       "      <td>3827.658</td>\n",
       "      <td>1151</td>\n",
       "      <td>8.1</td>\n",
       "      <td>en</td>\n",
       "      <td>Crime, Mystery, Thriller</td>\n",
       "      <td>https://image.tmdb.org/t/p/original/74xTEgt7R3...</td>\n",
       "    </tr>\n",
       "    <tr>\n",
       "      <th>2</th>\n",
       "      <td>2022-02-25</td>\n",
       "      <td>No Exit</td>\n",
       "      <td>Stranded at a rest stop in the mountains durin...</td>\n",
       "      <td>2618.087</td>\n",
       "      <td>122</td>\n",
       "      <td>6.3</td>\n",
       "      <td>en</td>\n",
       "      <td>Thriller</td>\n",
       "      <td>https://image.tmdb.org/t/p/original/vDHsLnOWKl...</td>\n",
       "    </tr>\n",
       "    <tr>\n",
       "      <th>3</th>\n",
       "      <td>2021-11-24</td>\n",
       "      <td>Encanto</td>\n",
       "      <td>The tale of an extraordinary family, the Madri...</td>\n",
       "      <td>2402.201</td>\n",
       "      <td>5076</td>\n",
       "      <td>7.7</td>\n",
       "      <td>en</td>\n",
       "      <td>Animation, Comedy, Family, Fantasy</td>\n",
       "      <td>https://image.tmdb.org/t/p/original/4j0PNHkMr5...</td>\n",
       "    </tr>\n",
       "    <tr>\n",
       "      <th>4</th>\n",
       "      <td>2021-12-22</td>\n",
       "      <td>The King's Man</td>\n",
       "      <td>As a collection of history's worst tyrants and...</td>\n",
       "      <td>1895.511</td>\n",
       "      <td>1793</td>\n",
       "      <td>7.0</td>\n",
       "      <td>en</td>\n",
       "      <td>Action, Adventure, Thriller, War</td>\n",
       "      <td>https://image.tmdb.org/t/p/original/aq4Pwv5Xeu...</td>\n",
       "    </tr>\n",
       "  </tbody>\n",
       "</table>\n",
       "</div>"
      ],
      "text/plain": [
       "  Release_Date                    Title  \\\n",
       "0   2021-12-15  Spider-Man: No Way Home   \n",
       "1   2022-03-01               The Batman   \n",
       "2   2022-02-25                  No Exit   \n",
       "3   2021-11-24                  Encanto   \n",
       "4   2021-12-22           The King's Man   \n",
       "\n",
       "                                            Overview  Popularity Vote_Count  \\\n",
       "0  Peter Parker is unmasked and no longer able to...    5083.954       8940   \n",
       "1  In his second year of fighting crime, Batman u...    3827.658       1151   \n",
       "2  Stranded at a rest stop in the mountains durin...    2618.087        122   \n",
       "3  The tale of an extraordinary family, the Madri...    2402.201       5076   \n",
       "4  As a collection of history's worst tyrants and...    1895.511       1793   \n",
       "\n",
       "  Vote_Average Original_Language                               Genre  \\\n",
       "0          8.3                en  Action, Adventure, Science Fiction   \n",
       "1          8.1                en            Crime, Mystery, Thriller   \n",
       "2          6.3                en                            Thriller   \n",
       "3          7.7                en  Animation, Comedy, Family, Fantasy   \n",
       "4          7.0                en    Action, Adventure, Thriller, War   \n",
       "\n",
       "                                          Poster_Url  \n",
       "0  https://image.tmdb.org/t/p/original/1g0dhYtq4i...  \n",
       "1  https://image.tmdb.org/t/p/original/74xTEgt7R3...  \n",
       "2  https://image.tmdb.org/t/p/original/vDHsLnOWKl...  \n",
       "3  https://image.tmdb.org/t/p/original/4j0PNHkMr5...  \n",
       "4  https://image.tmdb.org/t/p/original/aq4Pwv5Xeu...  "
      ]
     },
     "execution_count": 3,
     "metadata": {},
     "output_type": "execute_result"
    }
   ],
   "source": [
    "df.head()"
   ]
  },
  {
   "cell_type": "code",
   "execution_count": 4,
   "id": "a93f6041-8e1a-4257-8842-93bcbf663ef4",
   "metadata": {},
   "outputs": [
    {
     "name": "stdout",
     "output_type": "stream",
     "text": [
      "<class 'pandas.core.frame.DataFrame'>\n",
      "RangeIndex: 9837 entries, 0 to 9836\n",
      "Data columns (total 9 columns):\n",
      " #   Column             Non-Null Count  Dtype  \n",
      "---  ------             --------------  -----  \n",
      " 0   Release_Date       9837 non-null   object \n",
      " 1   Title              9828 non-null   object \n",
      " 2   Overview           9828 non-null   object \n",
      " 3   Popularity         9827 non-null   float64\n",
      " 4   Vote_Count         9827 non-null   object \n",
      " 5   Vote_Average       9827 non-null   object \n",
      " 6   Original_Language  9827 non-null   object \n",
      " 7   Genre              9826 non-null   object \n",
      " 8   Poster_Url         9826 non-null   object \n",
      "dtypes: float64(1), object(8)\n",
      "memory usage: 691.8+ KB\n"
     ]
    }
   ],
   "source": [
    "df.info()"
   ]
  },
  {
   "cell_type": "code",
   "execution_count": 5,
   "id": "54e0e3b0-17da-4567-b882-7ed74142d7ad",
   "metadata": {},
   "outputs": [
    {
     "data": {
      "text/plain": [
       "Release_Date          0\n",
       "Title                 9\n",
       "Overview              9\n",
       "Popularity           10\n",
       "Vote_Count           10\n",
       "Vote_Average         10\n",
       "Original_Language    10\n",
       "Genre                11\n",
       "Poster_Url           11\n",
       "dtype: int64"
      ]
     },
     "execution_count": 5,
     "metadata": {},
     "output_type": "execute_result"
    }
   ],
   "source": [
    "df.isnull().sum()"
   ]
  },
  {
   "cell_type": "code",
   "execution_count": 6,
   "id": "e21a27cf-43ec-4f55-a111-60297ac45761",
   "metadata": {},
   "outputs": [],
   "source": [
    "def str_to_numeric(df, columns):\n",
    "    for cols in columns:\n",
    "        df[cols] = pd.to_numeric(df[cols], errors='coerce')\n",
    "    return df"
   ]
  },
  {
   "cell_type": "code",
   "execution_count": 7,
   "id": "e580a67a-9958-46f9-9389-c9afc9cfc427",
   "metadata": {},
   "outputs": [],
   "source": [
    "columns = ['Vote_Count', 'Vote_Average']\n",
    "df = str_to_numeric(df, columns)"
   ]
  },
  {
   "cell_type": "code",
   "execution_count": 8,
   "id": "b32f048c-a14f-4f17-b33e-c41ec8b86c1e",
   "metadata": {},
   "outputs": [
    {
     "data": {
      "text/html": [
       "<div>\n",
       "<style scoped>\n",
       "    .dataframe tbody tr th:only-of-type {\n",
       "        vertical-align: middle;\n",
       "    }\n",
       "\n",
       "    .dataframe tbody tr th {\n",
       "        vertical-align: top;\n",
       "    }\n",
       "\n",
       "    .dataframe thead th {\n",
       "        text-align: right;\n",
       "    }\n",
       "</style>\n",
       "<table border=\"1\" class=\"dataframe\">\n",
       "  <thead>\n",
       "    <tr style=\"text-align: right;\">\n",
       "      <th></th>\n",
       "      <th>Popularity</th>\n",
       "      <th>Vote_Count</th>\n",
       "      <th>Vote_Average</th>\n",
       "    </tr>\n",
       "  </thead>\n",
       "  <tbody>\n",
       "    <tr>\n",
       "      <th>count</th>\n",
       "      <td>9827.000000</td>\n",
       "      <td>9826.000000</td>\n",
       "      <td>9826.000000</td>\n",
       "    </tr>\n",
       "    <tr>\n",
       "      <th>mean</th>\n",
       "      <td>40.320570</td>\n",
       "      <td>1392.943721</td>\n",
       "      <td>6.439467</td>\n",
       "    </tr>\n",
       "    <tr>\n",
       "      <th>std</th>\n",
       "      <td>108.874308</td>\n",
       "      <td>2611.303856</td>\n",
       "      <td>1.129797</td>\n",
       "    </tr>\n",
       "    <tr>\n",
       "      <th>min</th>\n",
       "      <td>7.100000</td>\n",
       "      <td>0.000000</td>\n",
       "      <td>0.000000</td>\n",
       "    </tr>\n",
       "    <tr>\n",
       "      <th>25%</th>\n",
       "      <td>16.127500</td>\n",
       "      <td>146.000000</td>\n",
       "      <td>5.900000</td>\n",
       "    </tr>\n",
       "    <tr>\n",
       "      <th>50%</th>\n",
       "      <td>21.191000</td>\n",
       "      <td>444.000000</td>\n",
       "      <td>6.500000</td>\n",
       "    </tr>\n",
       "    <tr>\n",
       "      <th>75%</th>\n",
       "      <td>35.174500</td>\n",
       "      <td>1376.000000</td>\n",
       "      <td>7.100000</td>\n",
       "    </tr>\n",
       "    <tr>\n",
       "      <th>max</th>\n",
       "      <td>5083.954000</td>\n",
       "      <td>31077.000000</td>\n",
       "      <td>10.000000</td>\n",
       "    </tr>\n",
       "  </tbody>\n",
       "</table>\n",
       "</div>"
      ],
      "text/plain": [
       "        Popularity    Vote_Count  Vote_Average\n",
       "count  9827.000000   9826.000000   9826.000000\n",
       "mean     40.320570   1392.943721      6.439467\n",
       "std     108.874308   2611.303856      1.129797\n",
       "min       7.100000      0.000000      0.000000\n",
       "25%      16.127500    146.000000      5.900000\n",
       "50%      21.191000    444.000000      6.500000\n",
       "75%      35.174500   1376.000000      7.100000\n",
       "max    5083.954000  31077.000000     10.000000"
      ]
     },
     "execution_count": 8,
     "metadata": {},
     "output_type": "execute_result"
    }
   ],
   "source": [
    "df.describe()"
   ]
  },
  {
   "cell_type": "code",
   "execution_count": 9,
   "id": "4f4168e0-02c9-492c-973e-55e806c96a98",
   "metadata": {},
   "outputs": [],
   "source": [
    "df = df.dropna()"
   ]
  },
  {
   "cell_type": "code",
   "execution_count": 10,
   "id": "39553eb9-0395-486b-a1a3-54ec3a442444",
   "metadata": {},
   "outputs": [
    {
     "data": {
      "text/plain": [
       "Release_Date         0\n",
       "Title                0\n",
       "Overview             0\n",
       "Popularity           0\n",
       "Vote_Count           0\n",
       "Vote_Average         0\n",
       "Original_Language    0\n",
       "Genre                0\n",
       "Poster_Url           0\n",
       "dtype: int64"
      ]
     },
     "execution_count": 10,
     "metadata": {},
     "output_type": "execute_result"
    }
   ],
   "source": [
    "df.isnull().sum()"
   ]
  },
  {
   "cell_type": "code",
   "execution_count": 11,
   "id": "888e83a9-7b0b-4373-8ecd-173fae77a4db",
   "metadata": {},
   "outputs": [
    {
     "data": {
      "text/plain": [
       "np.int64(0)"
      ]
     },
     "execution_count": 11,
     "metadata": {},
     "output_type": "execute_result"
    }
   ],
   "source": [
    "df.duplicated().sum()"
   ]
  },
  {
   "cell_type": "markdown",
   "id": "0debc8bf-0b43-47aa-89bc-6bc5e43bf3b2",
   "metadata": {},
   "source": [
    "**Exploration Summary:**\n",
    "\n",
    "- We have a dataset consisting 9826 rows and 9 columns.\n",
    "- Now our dataset looks a bit tidy with no NaNs and duplicated values.\n",
    "- Release_Date column needs to be casted into date-time and to extract only the year value.\n",
    "- Overview, Original_Language, and Poster_Url wouldn't be so useful during analysis, so we'll drop them.\n",
    "- There is noticable outliers in Popularity column.\n",
    "- Vote_Average better be categorised for proper analysis.\n",
    "- Genre column has comma saperated values and white spaces that needs to be handled and casted into category exploration summary"
   ]
  },
  {
   "cell_type": "code",
   "execution_count": 12,
   "id": "ef2bb5d4-16a3-41b5-8297-d309eae13f93",
   "metadata": {},
   "outputs": [
    {
     "data": {
      "text/html": [
       "<div>\n",
       "<style scoped>\n",
       "    .dataframe tbody tr th:only-of-type {\n",
       "        vertical-align: middle;\n",
       "    }\n",
       "\n",
       "    .dataframe tbody tr th {\n",
       "        vertical-align: top;\n",
       "    }\n",
       "\n",
       "    .dataframe thead th {\n",
       "        text-align: right;\n",
       "    }\n",
       "</style>\n",
       "<table border=\"1\" class=\"dataframe\">\n",
       "  <thead>\n",
       "    <tr style=\"text-align: right;\">\n",
       "      <th></th>\n",
       "      <th>Release_Date</th>\n",
       "      <th>Title</th>\n",
       "      <th>Overview</th>\n",
       "      <th>Popularity</th>\n",
       "      <th>Vote_Count</th>\n",
       "      <th>Vote_Average</th>\n",
       "      <th>Original_Language</th>\n",
       "      <th>Genre</th>\n",
       "      <th>Poster_Url</th>\n",
       "    </tr>\n",
       "  </thead>\n",
       "  <tbody>\n",
       "    <tr>\n",
       "      <th>0</th>\n",
       "      <td>2021-12-15</td>\n",
       "      <td>Spider-Man: No Way Home</td>\n",
       "      <td>Peter Parker is unmasked and no longer able to...</td>\n",
       "      <td>5083.954</td>\n",
       "      <td>8940.0</td>\n",
       "      <td>8.3</td>\n",
       "      <td>en</td>\n",
       "      <td>Action, Adventure, Science Fiction</td>\n",
       "      <td>https://image.tmdb.org/t/p/original/1g0dhYtq4i...</td>\n",
       "    </tr>\n",
       "    <tr>\n",
       "      <th>1</th>\n",
       "      <td>2022-03-01</td>\n",
       "      <td>The Batman</td>\n",
       "      <td>In his second year of fighting crime, Batman u...</td>\n",
       "      <td>3827.658</td>\n",
       "      <td>1151.0</td>\n",
       "      <td>8.1</td>\n",
       "      <td>en</td>\n",
       "      <td>Crime, Mystery, Thriller</td>\n",
       "      <td>https://image.tmdb.org/t/p/original/74xTEgt7R3...</td>\n",
       "    </tr>\n",
       "  </tbody>\n",
       "</table>\n",
       "</div>"
      ],
      "text/plain": [
       "  Release_Date                    Title  \\\n",
       "0   2021-12-15  Spider-Man: No Way Home   \n",
       "1   2022-03-01               The Batman   \n",
       "\n",
       "                                            Overview  Popularity  Vote_Count  \\\n",
       "0  Peter Parker is unmasked and no longer able to...    5083.954      8940.0   \n",
       "1  In his second year of fighting crime, Batman u...    3827.658      1151.0   \n",
       "\n",
       "   Vote_Average Original_Language                               Genre  \\\n",
       "0           8.3                en  Action, Adventure, Science Fiction   \n",
       "1           8.1                en            Crime, Mystery, Thriller   \n",
       "\n",
       "                                          Poster_Url  \n",
       "0  https://image.tmdb.org/t/p/original/1g0dhYtq4i...  \n",
       "1  https://image.tmdb.org/t/p/original/74xTEgt7R3...  "
      ]
     },
     "execution_count": 12,
     "metadata": {},
     "output_type": "execute_result"
    }
   ],
   "source": [
    "df.head(2)"
   ]
  },
  {
   "cell_type": "code",
   "execution_count": 13,
   "id": "493fca0e-cb9f-4b17-ba19-8b4a68d834fa",
   "metadata": {},
   "outputs": [],
   "source": [
    "df.drop(columns=['Overview', 'Original_Language', 'Poster_Url'], inplace=True)"
   ]
  },
  {
   "cell_type": "code",
   "execution_count": 14,
   "id": "fa070baa-8667-4f39-81d7-fe0614165fec",
   "metadata": {},
   "outputs": [
    {
     "data": {
      "text/html": [
       "<div>\n",
       "<style scoped>\n",
       "    .dataframe tbody tr th:only-of-type {\n",
       "        vertical-align: middle;\n",
       "    }\n",
       "\n",
       "    .dataframe tbody tr th {\n",
       "        vertical-align: top;\n",
       "    }\n",
       "\n",
       "    .dataframe thead th {\n",
       "        text-align: right;\n",
       "    }\n",
       "</style>\n",
       "<table border=\"1\" class=\"dataframe\">\n",
       "  <thead>\n",
       "    <tr style=\"text-align: right;\">\n",
       "      <th></th>\n",
       "      <th>Release_Date</th>\n",
       "      <th>Title</th>\n",
       "      <th>Popularity</th>\n",
       "      <th>Vote_Count</th>\n",
       "      <th>Vote_Average</th>\n",
       "      <th>Genre</th>\n",
       "    </tr>\n",
       "  </thead>\n",
       "  <tbody>\n",
       "    <tr>\n",
       "      <th>0</th>\n",
       "      <td>2021-12-15</td>\n",
       "      <td>Spider-Man: No Way Home</td>\n",
       "      <td>5083.954</td>\n",
       "      <td>8940.0</td>\n",
       "      <td>8.3</td>\n",
       "      <td>Action, Adventure, Science Fiction</td>\n",
       "    </tr>\n",
       "    <tr>\n",
       "      <th>1</th>\n",
       "      <td>2022-03-01</td>\n",
       "      <td>The Batman</td>\n",
       "      <td>3827.658</td>\n",
       "      <td>1151.0</td>\n",
       "      <td>8.1</td>\n",
       "      <td>Crime, Mystery, Thriller</td>\n",
       "    </tr>\n",
       "    <tr>\n",
       "      <th>2</th>\n",
       "      <td>2022-02-25</td>\n",
       "      <td>No Exit</td>\n",
       "      <td>2618.087</td>\n",
       "      <td>122.0</td>\n",
       "      <td>6.3</td>\n",
       "      <td>Thriller</td>\n",
       "    </tr>\n",
       "  </tbody>\n",
       "</table>\n",
       "</div>"
      ],
      "text/plain": [
       "  Release_Date                    Title  Popularity  Vote_Count  Vote_Average  \\\n",
       "0   2021-12-15  Spider-Man: No Way Home    5083.954      8940.0           8.3   \n",
       "1   2022-03-01               The Batman    3827.658      1151.0           8.1   \n",
       "2   2022-02-25                  No Exit    2618.087       122.0           6.3   \n",
       "\n",
       "                                Genre  \n",
       "0  Action, Adventure, Science Fiction  \n",
       "1            Crime, Mystery, Thriller  \n",
       "2                            Thriller  "
      ]
     },
     "execution_count": 14,
     "metadata": {},
     "output_type": "execute_result"
    }
   ],
   "source": [
    "df.head(3)"
   ]
  },
  {
   "cell_type": "code",
   "execution_count": 15,
   "id": "7c1cb2be-843a-4fc2-bba0-2b4963b9c417",
   "metadata": {},
   "outputs": [
    {
     "data": {
      "text/plain": [
       "dtype('<M8[ns]')"
      ]
     },
     "execution_count": 15,
     "metadata": {},
     "output_type": "execute_result"
    }
   ],
   "source": [
    "df['Release_Date'] = pd.to_datetime(df['Release_Date'])\n",
    "df['Release_Date'].dtypes"
   ]
  },
  {
   "cell_type": "code",
   "execution_count": 16,
   "id": "f9429bb6-c00d-4abc-bc51-d5aeb8bfca3c",
   "metadata": {},
   "outputs": [
    {
     "data": {
      "text/plain": [
       "dtype('int32')"
      ]
     },
     "execution_count": 16,
     "metadata": {},
     "output_type": "execute_result"
    }
   ],
   "source": [
    "df['Release_Date'] = df['Release_Date'].dt.year\n",
    "df['Release_Date'].dtypes"
   ]
  },
  {
   "cell_type": "code",
   "execution_count": 17,
   "id": "6a93b936-4801-4af1-8d9e-94afe938b6e9",
   "metadata": {},
   "outputs": [
    {
     "data": {
      "text/html": [
       "<div>\n",
       "<style scoped>\n",
       "    .dataframe tbody tr th:only-of-type {\n",
       "        vertical-align: middle;\n",
       "    }\n",
       "\n",
       "    .dataframe tbody tr th {\n",
       "        vertical-align: top;\n",
       "    }\n",
       "\n",
       "    .dataframe thead th {\n",
       "        text-align: right;\n",
       "    }\n",
       "</style>\n",
       "<table border=\"1\" class=\"dataframe\">\n",
       "  <thead>\n",
       "    <tr style=\"text-align: right;\">\n",
       "      <th></th>\n",
       "      <th>Release_Date</th>\n",
       "      <th>Title</th>\n",
       "      <th>Popularity</th>\n",
       "      <th>Vote_Count</th>\n",
       "      <th>Vote_Average</th>\n",
       "      <th>Genre</th>\n",
       "    </tr>\n",
       "  </thead>\n",
       "  <tbody>\n",
       "    <tr>\n",
       "      <th>0</th>\n",
       "      <td>2021</td>\n",
       "      <td>Spider-Man: No Way Home</td>\n",
       "      <td>5083.954</td>\n",
       "      <td>8940.0</td>\n",
       "      <td>8.3</td>\n",
       "      <td>Action, Adventure, Science Fiction</td>\n",
       "    </tr>\n",
       "    <tr>\n",
       "      <th>1</th>\n",
       "      <td>2022</td>\n",
       "      <td>The Batman</td>\n",
       "      <td>3827.658</td>\n",
       "      <td>1151.0</td>\n",
       "      <td>8.1</td>\n",
       "      <td>Crime, Mystery, Thriller</td>\n",
       "    </tr>\n",
       "    <tr>\n",
       "      <th>2</th>\n",
       "      <td>2022</td>\n",
       "      <td>No Exit</td>\n",
       "      <td>2618.087</td>\n",
       "      <td>122.0</td>\n",
       "      <td>6.3</td>\n",
       "      <td>Thriller</td>\n",
       "    </tr>\n",
       "    <tr>\n",
       "      <th>3</th>\n",
       "      <td>2021</td>\n",
       "      <td>Encanto</td>\n",
       "      <td>2402.201</td>\n",
       "      <td>5076.0</td>\n",
       "      <td>7.7</td>\n",
       "      <td>Animation, Comedy, Family, Fantasy</td>\n",
       "    </tr>\n",
       "    <tr>\n",
       "      <th>4</th>\n",
       "      <td>2021</td>\n",
       "      <td>The King's Man</td>\n",
       "      <td>1895.511</td>\n",
       "      <td>1793.0</td>\n",
       "      <td>7.0</td>\n",
       "      <td>Action, Adventure, Thriller, War</td>\n",
       "    </tr>\n",
       "  </tbody>\n",
       "</table>\n",
       "</div>"
      ],
      "text/plain": [
       "   Release_Date                    Title  Popularity  Vote_Count  \\\n",
       "0          2021  Spider-Man: No Way Home    5083.954      8940.0   \n",
       "1          2022               The Batman    3827.658      1151.0   \n",
       "2          2022                  No Exit    2618.087       122.0   \n",
       "3          2021                  Encanto    2402.201      5076.0   \n",
       "4          2021           The King's Man    1895.511      1793.0   \n",
       "\n",
       "   Vote_Average                               Genre  \n",
       "0           8.3  Action, Adventure, Science Fiction  \n",
       "1           8.1            Crime, Mystery, Thriller  \n",
       "2           6.3                            Thriller  \n",
       "3           7.7  Animation, Comedy, Family, Fantasy  \n",
       "4           7.0    Action, Adventure, Thriller, War  "
      ]
     },
     "execution_count": 17,
     "metadata": {},
     "output_type": "execute_result"
    }
   ],
   "source": [
    "df.head()"
   ]
  },
  {
   "cell_type": "markdown",
   "id": "9c0f0792-1be1-4dc6-a98a-62eca402f0ae",
   "metadata": {},
   "source": [
    "**Categorizing `Vote_Average` column**\n",
    "\n",
    "We would cut the **`Vote_Average`** values and make **`4`** categoris: **`popular`** **`average`** **`below_avg`** **`not_popular`** to describe it more using **`categorize_col()`** function provided above."
   ]
  },
  {
   "cell_type": "code",
   "execution_count": 18,
   "id": "08dc5eff-c444-4ed6-9eb8-7eadfea1c526",
   "metadata": {},
   "outputs": [],
   "source": [
    "def categorize_col(df, cols, labels):\n",
    "    \n",
    "    edges = [df[cols].describe()['min'],\n",
    "            df[cols].describe()['25%'],\n",
    "            df[cols].describe()['50%'],\n",
    "            df[cols].describe()['75%'],\n",
    "            df[cols].describe()['max']]\n",
    "    \n",
    "    df[cols] = pd.cut(df[cols], edges, labels = labels, duplicates = 'drop')\n",
    "    return df"
   ]
  },
  {
   "cell_type": "code",
   "execution_count": 19,
   "id": "91018f03-4772-4ec3-b20e-19636fe9ff7f",
   "metadata": {},
   "outputs": [
    {
     "data": {
      "text/html": [
       "<div>\n",
       "<style scoped>\n",
       "    .dataframe tbody tr th:only-of-type {\n",
       "        vertical-align: middle;\n",
       "    }\n",
       "\n",
       "    .dataframe tbody tr th {\n",
       "        vertical-align: top;\n",
       "    }\n",
       "\n",
       "    .dataframe thead th {\n",
       "        text-align: right;\n",
       "    }\n",
       "</style>\n",
       "<table border=\"1\" class=\"dataframe\">\n",
       "  <thead>\n",
       "    <tr style=\"text-align: right;\">\n",
       "      <th></th>\n",
       "      <th>Release_Date</th>\n",
       "      <th>Title</th>\n",
       "      <th>Popularity</th>\n",
       "      <th>Vote_Count</th>\n",
       "      <th>Vote_Average</th>\n",
       "      <th>Genre</th>\n",
       "    </tr>\n",
       "  </thead>\n",
       "  <tbody>\n",
       "    <tr>\n",
       "      <th>0</th>\n",
       "      <td>2021</td>\n",
       "      <td>Spider-Man: No Way Home</td>\n",
       "      <td>5083.954</td>\n",
       "      <td>8940.0</td>\n",
       "      <td>populer</td>\n",
       "      <td>Action, Adventure, Science Fiction</td>\n",
       "    </tr>\n",
       "    <tr>\n",
       "      <th>1</th>\n",
       "      <td>2022</td>\n",
       "      <td>The Batman</td>\n",
       "      <td>3827.658</td>\n",
       "      <td>1151.0</td>\n",
       "      <td>populer</td>\n",
       "      <td>Crime, Mystery, Thriller</td>\n",
       "    </tr>\n",
       "    <tr>\n",
       "      <th>2</th>\n",
       "      <td>2022</td>\n",
       "      <td>No Exit</td>\n",
       "      <td>2618.087</td>\n",
       "      <td>122.0</td>\n",
       "      <td>below_avg</td>\n",
       "      <td>Thriller</td>\n",
       "    </tr>\n",
       "    <tr>\n",
       "      <th>3</th>\n",
       "      <td>2021</td>\n",
       "      <td>Encanto</td>\n",
       "      <td>2402.201</td>\n",
       "      <td>5076.0</td>\n",
       "      <td>populer</td>\n",
       "      <td>Animation, Comedy, Family, Fantasy</td>\n",
       "    </tr>\n",
       "    <tr>\n",
       "      <th>4</th>\n",
       "      <td>2021</td>\n",
       "      <td>The King's Man</td>\n",
       "      <td>1895.511</td>\n",
       "      <td>1793.0</td>\n",
       "      <td>average</td>\n",
       "      <td>Action, Adventure, Thriller, War</td>\n",
       "    </tr>\n",
       "  </tbody>\n",
       "</table>\n",
       "</div>"
      ],
      "text/plain": [
       "   Release_Date                    Title  Popularity  Vote_Count Vote_Average  \\\n",
       "0          2021  Spider-Man: No Way Home    5083.954      8940.0      populer   \n",
       "1          2022               The Batman    3827.658      1151.0      populer   \n",
       "2          2022                  No Exit    2618.087       122.0    below_avg   \n",
       "3          2021                  Encanto    2402.201      5076.0      populer   \n",
       "4          2021           The King's Man    1895.511      1793.0      average   \n",
       "\n",
       "                                Genre  \n",
       "0  Action, Adventure, Science Fiction  \n",
       "1            Crime, Mystery, Thriller  \n",
       "2                            Thriller  \n",
       "3  Animation, Comedy, Family, Fantasy  \n",
       "4    Action, Adventure, Thriller, War  "
      ]
     },
     "execution_count": 19,
     "metadata": {},
     "output_type": "execute_result"
    }
   ],
   "source": [
    "labels = ['not_populer', 'below_avg', 'average', 'populer']\n",
    "categorize_col(df, 'Vote_Average', labels).head()"
   ]
  },
  {
   "cell_type": "code",
   "execution_count": 20,
   "id": "4e785359-4e36-4b8f-88b9-bd18587a8e56",
   "metadata": {},
   "outputs": [
    {
     "data": {
      "text/plain": [
       "Vote_Average\n",
       "not_populer    2467\n",
       "populer        2450\n",
       "average        2411\n",
       "below_avg      2398\n",
       "Name: count, dtype: int64"
      ]
     },
     "execution_count": 20,
     "metadata": {},
     "output_type": "execute_result"
    }
   ],
   "source": [
    "df['Vote_Average'].value_counts()"
   ]
  },
  {
   "cell_type": "code",
   "execution_count": 21,
   "id": "4b5b03db-e678-4159-a6da-63fde128eee9",
   "metadata": {},
   "outputs": [
    {
     "data": {
      "text/plain": [
       "Release_Date      0\n",
       "Title             0\n",
       "Popularity        0\n",
       "Vote_Count        0\n",
       "Vote_Average    100\n",
       "Genre             0\n",
       "dtype: int64"
      ]
     },
     "execution_count": 21,
     "metadata": {},
     "output_type": "execute_result"
    }
   ],
   "source": [
    "df.isnull().sum()"
   ]
  },
  {
   "cell_type": "code",
   "execution_count": 22,
   "id": "1ea1fd13-7293-45a5-8d80-d4384a2686e8",
   "metadata": {},
   "outputs": [
    {
     "data": {
      "text/plain": [
       "Release_Date    0\n",
       "Title           0\n",
       "Popularity      0\n",
       "Vote_Count      0\n",
       "Vote_Average    0\n",
       "Genre           0\n",
       "dtype: int64"
      ]
     },
     "execution_count": 22,
     "metadata": {},
     "output_type": "execute_result"
    }
   ],
   "source": [
    "df.dropna(inplace=True)\n",
    "df.isnull().sum()"
   ]
  },
  {
   "cell_type": "markdown",
   "id": "38618f9e-ca8f-48f6-82d4-727413049718",
   "metadata": {},
   "source": [
    "## We'd split genres into a list and then explode our dataset to have only one genre per row for each movie"
   ]
  },
  {
   "cell_type": "code",
   "execution_count": 28,
   "id": "dcbdda63-61d2-45e8-8e39-9f7a64b624fa",
   "metadata": {},
   "outputs": [],
   "source": [
    "df['Genre'] = df['Genre'].str.split(', ')\n",
    "df = df.explode('Genre').reset_index(drop = True)"
   ]
  },
  {
   "cell_type": "code",
   "execution_count": 29,
   "id": "844644c4-5d56-4e1d-a810-948b11a86a19",
   "metadata": {},
   "outputs": [
    {
     "data": {
      "text/html": [
       "<div>\n",
       "<style scoped>\n",
       "    .dataframe tbody tr th:only-of-type {\n",
       "        vertical-align: middle;\n",
       "    }\n",
       "\n",
       "    .dataframe tbody tr th {\n",
       "        vertical-align: top;\n",
       "    }\n",
       "\n",
       "    .dataframe thead th {\n",
       "        text-align: right;\n",
       "    }\n",
       "</style>\n",
       "<table border=\"1\" class=\"dataframe\">\n",
       "  <thead>\n",
       "    <tr style=\"text-align: right;\">\n",
       "      <th></th>\n",
       "      <th>Release_Date</th>\n",
       "      <th>Title</th>\n",
       "      <th>Popularity</th>\n",
       "      <th>Vote_Count</th>\n",
       "      <th>Vote_Average</th>\n",
       "      <th>Genre</th>\n",
       "    </tr>\n",
       "  </thead>\n",
       "  <tbody>\n",
       "    <tr>\n",
       "      <th>0</th>\n",
       "      <td>2021</td>\n",
       "      <td>Spider-Man: No Way Home</td>\n",
       "      <td>5083.954</td>\n",
       "      <td>8940.0</td>\n",
       "      <td>populer</td>\n",
       "      <td>Action</td>\n",
       "    </tr>\n",
       "    <tr>\n",
       "      <th>1</th>\n",
       "      <td>2021</td>\n",
       "      <td>Spider-Man: No Way Home</td>\n",
       "      <td>5083.954</td>\n",
       "      <td>8940.0</td>\n",
       "      <td>populer</td>\n",
       "      <td>Adventure</td>\n",
       "    </tr>\n",
       "    <tr>\n",
       "      <th>2</th>\n",
       "      <td>2021</td>\n",
       "      <td>Spider-Man: No Way Home</td>\n",
       "      <td>5083.954</td>\n",
       "      <td>8940.0</td>\n",
       "      <td>populer</td>\n",
       "      <td>Science Fiction</td>\n",
       "    </tr>\n",
       "    <tr>\n",
       "      <th>3</th>\n",
       "      <td>2022</td>\n",
       "      <td>The Batman</td>\n",
       "      <td>3827.658</td>\n",
       "      <td>1151.0</td>\n",
       "      <td>populer</td>\n",
       "      <td>Crime</td>\n",
       "    </tr>\n",
       "    <tr>\n",
       "      <th>4</th>\n",
       "      <td>2022</td>\n",
       "      <td>The Batman</td>\n",
       "      <td>3827.658</td>\n",
       "      <td>1151.0</td>\n",
       "      <td>populer</td>\n",
       "      <td>Mystery</td>\n",
       "    </tr>\n",
       "  </tbody>\n",
       "</table>\n",
       "</div>"
      ],
      "text/plain": [
       "   Release_Date                    Title  Popularity  Vote_Count Vote_Average  \\\n",
       "0          2021  Spider-Man: No Way Home    5083.954      8940.0      populer   \n",
       "1          2021  Spider-Man: No Way Home    5083.954      8940.0      populer   \n",
       "2          2021  Spider-Man: No Way Home    5083.954      8940.0      populer   \n",
       "3          2022               The Batman    3827.658      1151.0      populer   \n",
       "4          2022               The Batman    3827.658      1151.0      populer   \n",
       "\n",
       "             Genre  \n",
       "0           Action  \n",
       "1        Adventure  \n",
       "2  Science Fiction  \n",
       "3            Crime  \n",
       "4          Mystery  "
      ]
     },
     "execution_count": 29,
     "metadata": {},
     "output_type": "execute_result"
    }
   ],
   "source": [
    "df.head()"
   ]
  },
  {
   "cell_type": "code",
   "execution_count": 30,
   "id": "42e26a26-0a7c-4efd-b497-0a3796e74c43",
   "metadata": {},
   "outputs": [
    {
     "data": {
      "text/plain": [
       "CategoricalDtype(categories=['Action', 'Adventure', 'Animation', 'Comedy', 'Crime',\n",
       "                  'Documentary', 'Drama', 'Family', 'Fantasy', 'History',\n",
       "                  'Horror', 'Music', 'Mystery', 'Romance', 'Science Fiction',\n",
       "                  'TV Movie', 'Thriller', 'War', 'Western'],\n",
       ", ordered=False, categories_dtype=object)"
      ]
     },
     "execution_count": 30,
     "metadata": {},
     "output_type": "execute_result"
    }
   ],
   "source": [
    "# Custing column into category\n",
    "\n",
    "df['Genre'] = df['Genre'].astype('category')\n",
    "df['Genre'].dtypes"
   ]
  },
  {
   "cell_type": "code",
   "execution_count": 31,
   "id": "df0ac9ff-b07d-4e36-a159-2983eda9d920",
   "metadata": {},
   "outputs": [
    {
     "name": "stdout",
     "output_type": "stream",
     "text": [
      "<class 'pandas.core.frame.DataFrame'>\n",
      "RangeIndex: 25551 entries, 0 to 25550\n",
      "Data columns (total 6 columns):\n",
      " #   Column        Non-Null Count  Dtype   \n",
      "---  ------        --------------  -----   \n",
      " 0   Release_Date  25551 non-null  int32   \n",
      " 1   Title         25551 non-null  object  \n",
      " 2   Popularity    25551 non-null  float64 \n",
      " 3   Vote_Count    25551 non-null  float64 \n",
      " 4   Vote_Average  25551 non-null  category\n",
      " 5   Genre         25551 non-null  category\n",
      "dtypes: category(2), float64(2), int32(1), object(1)\n",
      "memory usage: 749.6+ KB\n"
     ]
    }
   ],
   "source": [
    "df.info()"
   ]
  },
  {
   "cell_type": "code",
   "execution_count": 32,
   "id": "ceff0395-2edf-4b53-944c-090b370734fe",
   "metadata": {},
   "outputs": [
    {
     "data": {
      "text/plain": [
       "Release_Date     100\n",
       "Title           9414\n",
       "Popularity      8087\n",
       "Vote_Count      3265\n",
       "Vote_Average       4\n",
       "Genre             19\n",
       "dtype: int64"
      ]
     },
     "execution_count": 32,
     "metadata": {},
     "output_type": "execute_result"
    }
   ],
   "source": [
    "df.nunique()"
   ]
  },
  {
   "cell_type": "markdown",
   "id": "c2b217cb-103f-426a-ab47-62572a887a91",
   "metadata": {},
   "source": [
    "## **Data Visualizetion**"
   ]
  },
  {
   "cell_type": "code",
   "execution_count": 35,
   "id": "41f4db9b-9101-4ba0-ae0d-32da1738e2ed",
   "metadata": {},
   "outputs": [],
   "source": [
    "sns.set_style('whitegrid')"
   ]
  },
  {
   "cell_type": "markdown",
   "id": "87032960-9807-4562-aa5a-32b51be79837",
   "metadata": {},
   "source": [
    "## 1. What is the most frequent genre of movies released no Netflix?"
   ]
  },
  {
   "cell_type": "code",
   "execution_count": 36,
   "id": "edf5f47b-5adb-4e9c-9557-cdafcb46854f",
   "metadata": {},
   "outputs": [
    {
     "data": {
      "text/plain": [
       "count     25551\n",
       "unique       19\n",
       "top       Drama\n",
       "freq       3715\n",
       "Name: Genre, dtype: object"
      ]
     },
     "execution_count": 36,
     "metadata": {},
     "output_type": "execute_result"
    }
   ],
   "source": [
    "df['Genre'].describe()"
   ]
  },
  {
   "cell_type": "code",
   "execution_count": 37,
   "id": "93690422-c1b8-4b63-a6a7-c9d9d7bf9795",
   "metadata": {},
   "outputs": [
    {
     "data": {
      "image/png": "[encoded data removed]",
      "text/plain": [
       "<Figure size 511.111x500 with 1 Axes>"
      ]
     },
     "metadata": {},
     "output_type": "display_data"
    }
   ],
   "source": [
    "sns.catplot(y = 'Genre', data=df, kind='count', \n",
    "            order=df['Genre'].value_counts().index,\n",
    "            color = '#4287f5')\n",
    "\n",
    "plt.title(\"Genre column distribution\")\n",
    "plt.show()"
   ]
  },
  {
   "cell_type": "markdown",
   "id": "993a1bdf-36ec-4e39-8cd6-906b54c27422",
   "metadata": {},
   "source": [
    "## 2. What genres has highest votes?"
   ]
  },
  {
   "cell_type": "code",
   "execution_count": 38,
   "id": "0332305f-3a17-4999-8a9c-0c9f94948669",
   "metadata": {},
   "outputs": [
    {
     "data": {
      "text/html": [
       "<div>\n",
       "<style scoped>\n",
       "    .dataframe tbody tr th:only-of-type {\n",
       "        vertical-align: middle;\n",
       "    }\n",
       "\n",
       "    .dataframe tbody tr th {\n",
       "        vertical-align: top;\n",
       "    }\n",
       "\n",
       "    .dataframe thead th {\n",
       "        text-align: right;\n",
       "    }\n",
       "</style>\n",
       "<table border=\"1\" class=\"dataframe\">\n",
       "  <thead>\n",
       "    <tr style=\"text-align: right;\">\n",
       "      <th></th>\n",
       "      <th>Release_Date</th>\n",
       "      <th>Title</th>\n",
       "      <th>Popularity</th>\n",
       "      <th>Vote_Count</th>\n",
       "      <th>Vote_Average</th>\n",
       "      <th>Genre</th>\n",
       "    </tr>\n",
       "  </thead>\n",
       "  <tbody>\n",
       "    <tr>\n",
       "      <th>0</th>\n",
       "      <td>2021</td>\n",
       "      <td>Spider-Man: No Way Home</td>\n",
       "      <td>5083.954</td>\n",
       "      <td>8940.0</td>\n",
       "      <td>populer</td>\n",
       "      <td>Action</td>\n",
       "    </tr>\n",
       "    <tr>\n",
       "      <th>1</th>\n",
       "      <td>2021</td>\n",
       "      <td>Spider-Man: No Way Home</td>\n",
       "      <td>5083.954</td>\n",
       "      <td>8940.0</td>\n",
       "      <td>populer</td>\n",
       "      <td>Adventure</td>\n",
       "    </tr>\n",
       "    <tr>\n",
       "      <th>2</th>\n",
       "      <td>2021</td>\n",
       "      <td>Spider-Man: No Way Home</td>\n",
       "      <td>5083.954</td>\n",
       "      <td>8940.0</td>\n",
       "      <td>populer</td>\n",
       "      <td>Science Fiction</td>\n",
       "    </tr>\n",
       "    <tr>\n",
       "      <th>3</th>\n",
       "      <td>2022</td>\n",
       "      <td>The Batman</td>\n",
       "      <td>3827.658</td>\n",
       "      <td>1151.0</td>\n",
       "      <td>populer</td>\n",
       "      <td>Crime</td>\n",
       "    </tr>\n",
       "    <tr>\n",
       "      <th>4</th>\n",
       "      <td>2022</td>\n",
       "      <td>The Batman</td>\n",
       "      <td>3827.658</td>\n",
       "      <td>1151.0</td>\n",
       "      <td>populer</td>\n",
       "      <td>Mystery</td>\n",
       "    </tr>\n",
       "  </tbody>\n",
       "</table>\n",
       "</div>"
      ],
      "text/plain": [
       "   Release_Date                    Title  Popularity  Vote_Count Vote_Average  \\\n",
       "0          2021  Spider-Man: No Way Home    5083.954      8940.0      populer   \n",
       "1          2021  Spider-Man: No Way Home    5083.954      8940.0      populer   \n",
       "2          2021  Spider-Man: No Way Home    5083.954      8940.0      populer   \n",
       "3          2022               The Batman    3827.658      1151.0      populer   \n",
       "4          2022               The Batman    3827.658      1151.0      populer   \n",
       "\n",
       "             Genre  \n",
       "0           Action  \n",
       "1        Adventure  \n",
       "2  Science Fiction  \n",
       "3            Crime  \n",
       "4          Mystery  "
      ]
     },
     "execution_count": 38,
     "metadata": {},
     "output_type": "execute_result"
    }
   ],
   "source": [
    "df.head()"
   ]
  },
  {
   "cell_type": "code",
   "execution_count": 41,
   "id": "21802fa6-7383-431c-97a1-4fa611ed9ec1",
   "metadata": {},
   "outputs": [
    {
     "data": {
      "image/png": "[encoded data removed]",
      "text/plain": [
       "<Figure size 511.111x500 with 1 Axes>"
      ]
     },
     "metadata": {},
     "output_type": "display_data"
    }
   ],
   "source": [
    "sns.catplot(y = 'Vote_Average', data = df, kind = 'count',\n",
    "            order = df['Vote_Average'].value_counts().index,\n",
    "            color = '#4287f5')\n",
    "\n",
    "plt.title('Votes Distribution')\n",
    "plt.show()"
   ]
  },
  {
   "cell_type": "markdown",
   "id": "4e471fd1-8462-47ac-95e9-2a250cd96316",
   "metadata": {},
   "source": [
    "## 3. What movie got the highest popularity? whats its genre?"
   ]
  },
  {
   "cell_type": "code",
   "execution_count": 43,
   "id": "b2deccf0-bd4c-4585-bbec-0ff619612b78",
   "metadata": {},
   "outputs": [
    {
     "data": {
      "text/html": [
       "<div>\n",
       "<style scoped>\n",
       "    .dataframe tbody tr th:only-of-type {\n",
       "        vertical-align: middle;\n",
       "    }\n",
       "\n",
       "    .dataframe tbody tr th {\n",
       "        vertical-align: top;\n",
       "    }\n",
       "\n",
       "    .dataframe thead th {\n",
       "        text-align: right;\n",
       "    }\n",
       "</style>\n",
       "<table border=\"1\" class=\"dataframe\">\n",
       "  <thead>\n",
       "    <tr style=\"text-align: right;\">\n",
       "      <th></th>\n",
       "      <th>Release_Date</th>\n",
       "      <th>Title</th>\n",
       "      <th>Popularity</th>\n",
       "      <th>Vote_Count</th>\n",
       "      <th>Vote_Average</th>\n",
       "      <th>Genre</th>\n",
       "    </tr>\n",
       "  </thead>\n",
       "  <tbody>\n",
       "    <tr>\n",
       "      <th>0</th>\n",
       "      <td>2021</td>\n",
       "      <td>Spider-Man: No Way Home</td>\n",
       "      <td>5083.954</td>\n",
       "      <td>8940.0</td>\n",
       "      <td>populer</td>\n",
       "      <td>Action</td>\n",
       "    </tr>\n",
       "  </tbody>\n",
       "</table>\n",
       "</div>"
      ],
      "text/plain": [
       "   Release_Date                    Title  Popularity  Vote_Count Vote_Average  \\\n",
       "0          2021  Spider-Man: No Way Home    5083.954      8940.0      populer   \n",
       "\n",
       "    Genre  \n",
       "0  Action  "
      ]
     },
     "execution_count": 43,
     "metadata": {},
     "output_type": "execute_result"
    }
   ],
   "source": [
    "df.head(1)"
   ]
  },
  {
   "cell_type": "code",
   "execution_count": 44,
   "id": "91ba92a4-493a-42f1-a28b-3136b268d923",
   "metadata": {},
   "outputs": [
    {
     "data": {
      "text/html": [
       "<div>\n",
       "<style scoped>\n",
       "    .dataframe tbody tr th:only-of-type {\n",
       "        vertical-align: middle;\n",
       "    }\n",
       "\n",
       "    .dataframe tbody tr th {\n",
       "        vertical-align: top;\n",
       "    }\n",
       "\n",
       "    .dataframe thead th {\n",
       "        text-align: right;\n",
       "    }\n",
       "</style>\n",
       "<table border=\"1\" class=\"dataframe\">\n",
       "  <thead>\n",
       "    <tr style=\"text-align: right;\">\n",
       "      <th></th>\n",
       "      <th>Release_Date</th>\n",
       "      <th>Title</th>\n",
       "      <th>Popularity</th>\n",
       "      <th>Vote_Count</th>\n",
       "      <th>Vote_Average</th>\n",
       "      <th>Genre</th>\n",
       "    </tr>\n",
       "  </thead>\n",
       "  <tbody>\n",
       "    <tr>\n",
       "      <th>0</th>\n",
       "      <td>2021</td>\n",
       "      <td>Spider-Man: No Way Home</td>\n",
       "      <td>5083.954</td>\n",
       "      <td>8940.0</td>\n",
       "      <td>populer</td>\n",
       "      <td>Action</td>\n",
       "    </tr>\n",
       "    <tr>\n",
       "      <th>1</th>\n",
       "      <td>2021</td>\n",
       "      <td>Spider-Man: No Way Home</td>\n",
       "      <td>5083.954</td>\n",
       "      <td>8940.0</td>\n",
       "      <td>populer</td>\n",
       "      <td>Adventure</td>\n",
       "    </tr>\n",
       "    <tr>\n",
       "      <th>2</th>\n",
       "      <td>2021</td>\n",
       "      <td>Spider-Man: No Way Home</td>\n",
       "      <td>5083.954</td>\n",
       "      <td>8940.0</td>\n",
       "      <td>populer</td>\n",
       "      <td>Science Fiction</td>\n",
       "    </tr>\n",
       "  </tbody>\n",
       "</table>\n",
       "</div>"
      ],
      "text/plain": [
       "   Release_Date                    Title  Popularity  Vote_Count Vote_Average  \\\n",
       "0          2021  Spider-Man: No Way Home    5083.954      8940.0      populer   \n",
       "1          2021  Spider-Man: No Way Home    5083.954      8940.0      populer   \n",
       "2          2021  Spider-Man: No Way Home    5083.954      8940.0      populer   \n",
       "\n",
       "             Genre  \n",
       "0           Action  \n",
       "1        Adventure  \n",
       "2  Science Fiction  "
      ]
     },
     "execution_count": 44,
     "metadata": {},
     "output_type": "execute_result"
    }
   ],
   "source": [
    "df[df['Popularity'] == df['Popularity'].max()]"
   ]
  },
  {
   "cell_type": "markdown",
   "id": "09f63886-7ffe-4b0b-b882-5b3b95f89c6c",
   "metadata": {},
   "source": [
    "## 4. What movie got the lowest popularity? whats its genre?"
   ]
  },
  {
   "cell_type": "code",
   "execution_count": 45,
   "id": "36d9c706-4567-4f79-ae80-240fe7ebe12c",
   "metadata": {},
   "outputs": [
    {
     "data": {
      "text/html": [
       "<div>\n",
       "<style scoped>\n",
       "    .dataframe tbody tr th:only-of-type {\n",
       "        vertical-align: middle;\n",
       "    }\n",
       "\n",
       "    .dataframe tbody tr th {\n",
       "        vertical-align: top;\n",
       "    }\n",
       "\n",
       "    .dataframe thead th {\n",
       "        text-align: right;\n",
       "    }\n",
       "</style>\n",
       "<table border=\"1\" class=\"dataframe\">\n",
       "  <thead>\n",
       "    <tr style=\"text-align: right;\">\n",
       "      <th></th>\n",
       "      <th>Release_Date</th>\n",
       "      <th>Title</th>\n",
       "      <th>Popularity</th>\n",
       "      <th>Vote_Count</th>\n",
       "      <th>Vote_Average</th>\n",
       "      <th>Genre</th>\n",
       "    </tr>\n",
       "  </thead>\n",
       "  <tbody>\n",
       "    <tr>\n",
       "      <th>25545</th>\n",
       "      <td>2021</td>\n",
       "      <td>The United States vs. Billie Holiday</td>\n",
       "      <td>13.354</td>\n",
       "      <td>152.0</td>\n",
       "      <td>average</td>\n",
       "      <td>Music</td>\n",
       "    </tr>\n",
       "    <tr>\n",
       "      <th>25546</th>\n",
       "      <td>2021</td>\n",
       "      <td>The United States vs. Billie Holiday</td>\n",
       "      <td>13.354</td>\n",
       "      <td>152.0</td>\n",
       "      <td>average</td>\n",
       "      <td>Drama</td>\n",
       "    </tr>\n",
       "    <tr>\n",
       "      <th>25547</th>\n",
       "      <td>2021</td>\n",
       "      <td>The United States vs. Billie Holiday</td>\n",
       "      <td>13.354</td>\n",
       "      <td>152.0</td>\n",
       "      <td>average</td>\n",
       "      <td>History</td>\n",
       "    </tr>\n",
       "    <tr>\n",
       "      <th>25548</th>\n",
       "      <td>1984</td>\n",
       "      <td>Threads</td>\n",
       "      <td>13.354</td>\n",
       "      <td>186.0</td>\n",
       "      <td>populer</td>\n",
       "      <td>War</td>\n",
       "    </tr>\n",
       "    <tr>\n",
       "      <th>25549</th>\n",
       "      <td>1984</td>\n",
       "      <td>Threads</td>\n",
       "      <td>13.354</td>\n",
       "      <td>186.0</td>\n",
       "      <td>populer</td>\n",
       "      <td>Drama</td>\n",
       "    </tr>\n",
       "    <tr>\n",
       "      <th>25550</th>\n",
       "      <td>1984</td>\n",
       "      <td>Threads</td>\n",
       "      <td>13.354</td>\n",
       "      <td>186.0</td>\n",
       "      <td>populer</td>\n",
       "      <td>Science Fiction</td>\n",
       "    </tr>\n",
       "  </tbody>\n",
       "</table>\n",
       "</div>"
      ],
      "text/plain": [
       "       Release_Date                                 Title  Popularity  \\\n",
       "25545          2021  The United States vs. Billie Holiday      13.354   \n",
       "25546          2021  The United States vs. Billie Holiday      13.354   \n",
       "25547          2021  The United States vs. Billie Holiday      13.354   \n",
       "25548          1984                               Threads      13.354   \n",
       "25549          1984                               Threads      13.354   \n",
       "25550          1984                               Threads      13.354   \n",
       "\n",
       "       Vote_Count Vote_Average            Genre  \n",
       "25545       152.0      average            Music  \n",
       "25546       152.0      average            Drama  \n",
       "25547       152.0      average          History  \n",
       "25548       186.0      populer              War  \n",
       "25549       186.0      populer            Drama  \n",
       "25550       186.0      populer  Science Fiction  "
      ]
     },
     "execution_count": 45,
     "metadata": {},
     "output_type": "execute_result"
    }
   ],
   "source": [
    "df[df['Popularity'] == df['Popularity'].min()]"
   ]
  },
  {
   "cell_type": "code",
   "execution_count": null,
   "id": "5b8d79d2-9d9c-4c2e-8dbd-e04050f4f572",
   "metadata": {},
   "outputs": [],
   "source": []
  },
  {
   "cell_type": "markdown",
   "id": "d89f3266-24e2-4778-b608-a3cee9137480",
   "metadata": {},
   "source": [
    "## 5. Which year has the most filmmed movies?"
   ]
  },
  {
   "cell_type": "code",
   "execution_count": 46,
   "id": "10025c03-79be-4eb0-a01f-f9089f1aa462",
   "metadata": {},
   "outputs": [
    {
     "data": {
      "image/png": "[encoded data removed]",
      "text/plain": [
       "<Figure size 640x480 with 1 Axes>"
      ]
     },
     "metadata": {},
     "output_type": "display_data"
    }
   ],
   "source": [
    "df['Release_Date'].hist()\n",
    "plt.title('Release Date column distribution')\n",
    "plt.show()"
   ]
  },
  {
   "cell_type": "code",
   "execution_count": null,
   "id": "6379f49a-8962-4e03-8465-e9335b18fe0b",
   "metadata": {},
   "outputs": [],
   "source": []
  },
  {
   "cell_type": "code",
   "execution_count": null,
   "id": "d609ef2c",
   "metadata": {},
   "outputs": [],
   "source": []
  }
 ],
 "metadata": {
  "kernelspec": {
   "display_name": "Python 3",
   "language": "python",
   "name": "python3"
  },
  "language_info": {
   "codemirror_mode": {
    "name": "ipython",
    "version": 3
   },
   "file_extension": ".py",
   "mimetype": "text/x-python",
   "name": "python",
   "nbconvert_exporter": "python",
   "pygments_lexer": "ipython3",
   "version": "3.13.6"
  }
 },
 "nbformat": 4,
 "nbformat_minor": 5
}
